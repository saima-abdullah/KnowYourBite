{
 "cells": [
  {
   "cell_type": "code",
   "execution_count": 1,
   "id": "9caeec64-9070-4cd2-982a-c49cb3dda6b5",
   "metadata": {},
   "outputs": [],
   "source": [
    "\n",
    "import pandas as pd\n",
    "import numpy as np\n",
    "import matplotlib.pyplot as plt\n",
    "import seaborn as sns\n",
    "\n",
    "from sklearn.model_selection import train_test_split,GridSearchCV,cross_val_score\n",
    "from sklearn.pipeline import Pipeline\n",
    "\n",
    "from sklearn.linear_model import LogisticRegression\n",
    "from sklearn.naive_bayes import MultinomialNB\n",
    "from sklearn.metrics import accuracy_score,f1_score,confusion_matrix,ConfusionMatrixDisplay,RocCurveDisplay,classification_report, f1_score\n",
    "from sklearn.feature_extraction.text import CountVectorizer,TfidfVectorizer\n",
    "from sklearn.ensemble import AdaBoostClassifier, GradientBoostingClassifier\n",
    "import pickle"
   ]
  },
  {
   "cell_type": "markdown",
   "id": "f91c09b8-27d2-420c-b557-f424266f2d22",
   "metadata": {},
   "source": [
    "## Load Dataste"
   ]
  },
  {
   "cell_type": "code",
   "execution_count": 3,
   "id": "a8e0f59a-c984-4865-aa8c-a036cf947f8c",
   "metadata": {
    "scrolled": true
   },
   "outputs": [
    {
     "data": {
      "text/html": [
       "<div>\n",
       "<style scoped>\n",
       "    .dataframe tbody tr th:only-of-type {\n",
       "        vertical-align: middle;\n",
       "    }\n",
       "\n",
       "    .dataframe tbody tr th {\n",
       "        vertical-align: top;\n",
       "    }\n",
       "\n",
       "    .dataframe thead th {\n",
       "        text-align: right;\n",
       "    }\n",
       "</style>\n",
       "<table border=\"1\" class=\"dataframe\">\n",
       "  <thead>\n",
       "    <tr style=\"text-align: right;\">\n",
       "      <th></th>\n",
       "      <th>brands</th>\n",
       "      <th>product_name</th>\n",
       "      <th>categories</th>\n",
       "      <th>countries</th>\n",
       "      <th>food_groups_tags</th>\n",
       "      <th>food_groups</th>\n",
       "      <th>ingredients_text</th>\n",
       "      <th>category_name</th>\n",
       "      <th>country</th>\n",
       "      <th>processed_ingredients</th>\n",
       "      <th>health_label</th>\n",
       "    </tr>\n",
       "  </thead>\n",
       "  <tbody>\n",
       "    <tr>\n",
       "      <th>0</th>\n",
       "      <td>Mutti,POLPA</td>\n",
       "      <td>pulpe de tomates</td>\n",
       "      <td>Pflanzliche Lebensmittel und Getränke,Pflanzli...</td>\n",
       "      <td>Australien,Österreich,Belgien,Kanada,Frankreic...</td>\n",
       "      <td>['en:fruits-and-vegetables', 'en:vegetables']</td>\n",
       "      <td>en:vegetables</td>\n",
       "      <td>tomatoes 99.8%, salt</td>\n",
       "      <td>Plant-based foods and beverages</td>\n",
       "      <td>canada</td>\n",
       "      <td>tomatoes 99.8%, salt</td>\n",
       "      <td>healthy</td>\n",
       "    </tr>\n",
       "    <tr>\n",
       "      <th>1</th>\n",
       "      <td>Maïzena, Unilever</td>\n",
       "      <td>Maizena Fleur de Maïs Sans Gluten 400g</td>\n",
       "      <td>Plant-based foods and beverages, Plant-based f...</td>\n",
       "      <td>Belgique, Canada, France, Martinique, La Réuni...</td>\n",
       "      <td>['en:cereals-and-potatoes', 'en:cereals']</td>\n",
       "      <td>en:cereals</td>\n",
       "      <td>Amidon de maïs.</td>\n",
       "      <td>Plant-based foods and beverages</td>\n",
       "      <td>canada</td>\n",
       "      <td>amidon de maïs.</td>\n",
       "      <td>healthy</td>\n",
       "    </tr>\n",
       "    <tr>\n",
       "      <th>2</th>\n",
       "      <td>Barilla</td>\n",
       "      <td>Lasagne all'uovo</td>\n",
       "      <td>Cibi e bevande a base vegetale, Cibi a base ve...</td>\n",
       "      <td>Belgium,Canada,Croatia,France,Germany,Greece,H...</td>\n",
       "      <td>['en:cereals-and-potatoes', 'en:cereals']</td>\n",
       "      <td>en:cereals</td>\n",
       "      <td>Semola di grano duro, uova fresche di categori...</td>\n",
       "      <td>Plant-based foods and beverages</td>\n",
       "      <td>canada</td>\n",
       "      <td>semola di grano duro, uova fresche di categori...</td>\n",
       "      <td>healthy</td>\n",
       "    </tr>\n",
       "    <tr>\n",
       "      <th>3</th>\n",
       "      <td>Tipiak</td>\n",
       "      <td>Fine chapelure de pain</td>\n",
       "      <td>Aliments et boissons à base de végétaux,Alimen...</td>\n",
       "      <td>Canada,France</td>\n",
       "      <td>['en:cereals-and-potatoes', 'en:bread']</td>\n",
       "      <td>en:bread</td>\n",
       "      <td>Farine de blé (gluten), sel, levure, Traces po...</td>\n",
       "      <td>Plant-based foods and beverages</td>\n",
       "      <td>canada</td>\n",
       "      <td>farine de blé (gluten), sel, levure, traces po...</td>\n",
       "      <td>healthy</td>\n",
       "    </tr>\n",
       "    <tr>\n",
       "      <th>4</th>\n",
       "      <td>Zespri,Sungold,Catania,ALDI Zespri</td>\n",
       "      <td>Kiwi Sungold</td>\n",
       "      <td>Aliments et boissons à base de végétaux,Alimen...</td>\n",
       "      <td>Belgique,Canada,France,Allemagne,Pologne,Espag...</td>\n",
       "      <td>['en:fruits-and-vegetables', 'en:fruits']</td>\n",
       "      <td>en:fruits</td>\n",
       "      <td>Kiwifruit</td>\n",
       "      <td>Plant-based foods and beverages</td>\n",
       "      <td>canada</td>\n",
       "      <td>kiwifruit</td>\n",
       "      <td>healthy</td>\n",
       "    </tr>\n",
       "  </tbody>\n",
       "</table>\n",
       "</div>"
      ],
      "text/plain": [
       "                               brands                            product_name  \\\n",
       "0                         Mutti,POLPA                        pulpe de tomates   \n",
       "1                   Maïzena, Unilever  Maizena Fleur de Maïs Sans Gluten 400g   \n",
       "2                             Barilla                        Lasagne all'uovo   \n",
       "3                              Tipiak                  Fine chapelure de pain   \n",
       "4  Zespri,Sungold,Catania,ALDI Zespri                            Kiwi Sungold   \n",
       "\n",
       "                                          categories  \\\n",
       "0  Pflanzliche Lebensmittel und Getränke,Pflanzli...   \n",
       "1  Plant-based foods and beverages, Plant-based f...   \n",
       "2  Cibi e bevande a base vegetale, Cibi a base ve...   \n",
       "3  Aliments et boissons à base de végétaux,Alimen...   \n",
       "4  Aliments et boissons à base de végétaux,Alimen...   \n",
       "\n",
       "                                           countries  \\\n",
       "0  Australien,Österreich,Belgien,Kanada,Frankreic...   \n",
       "1  Belgique, Canada, France, Martinique, La Réuni...   \n",
       "2  Belgium,Canada,Croatia,France,Germany,Greece,H...   \n",
       "3                                      Canada,France   \n",
       "4  Belgique,Canada,France,Allemagne,Pologne,Espag...   \n",
       "\n",
       "                                food_groups_tags    food_groups  \\\n",
       "0  ['en:fruits-and-vegetables', 'en:vegetables']  en:vegetables   \n",
       "1      ['en:cereals-and-potatoes', 'en:cereals']     en:cereals   \n",
       "2      ['en:cereals-and-potatoes', 'en:cereals']     en:cereals   \n",
       "3        ['en:cereals-and-potatoes', 'en:bread']       en:bread   \n",
       "4      ['en:fruits-and-vegetables', 'en:fruits']      en:fruits   \n",
       "\n",
       "                                    ingredients_text  \\\n",
       "0                               tomatoes 99.8%, salt   \n",
       "1                                    Amidon de maïs.   \n",
       "2  Semola di grano duro, uova fresche di categori...   \n",
       "3  Farine de blé (gluten), sel, levure, Traces po...   \n",
       "4                                          Kiwifruit   \n",
       "\n",
       "                     category_name country  \\\n",
       "0  Plant-based foods and beverages  canada   \n",
       "1  Plant-based foods and beverages  canada   \n",
       "2  Plant-based foods and beverages  canada   \n",
       "3  Plant-based foods and beverages  canada   \n",
       "4  Plant-based foods and beverages  canada   \n",
       "\n",
       "                               processed_ingredients health_label  \n",
       "0                               tomatoes 99.8%, salt      healthy  \n",
       "1                                    amidon de maïs.      healthy  \n",
       "2  semola di grano duro, uova fresche di categori...      healthy  \n",
       "3  farine de blé (gluten), sel, levure, traces po...      healthy  \n",
       "4                                          kiwifruit      healthy  "
      ]
     },
     "execution_count": 3,
     "metadata": {},
     "output_type": "execute_result"
    }
   ],
   "source": [
    "df = pd.read_csv('../data/final_data.csv')\n",
    "df.head()"
   ]
  },
  {
   "cell_type": "markdown",
   "id": "13e321e5-6fb2-4fb8-8870-0244a9bc818d",
   "metadata": {},
   "source": [
    "### Model Preparation"
   ]
  },
  {
   "cell_type": "code",
   "execution_count": 5,
   "id": "68f42489-dc35-40c6-8dd7-db186c7678d4",
   "metadata": {},
   "outputs": [],
   "source": [
    "df['health_label'] = df['health_label'].map({'healthy':0,'not healthy':1})"
   ]
  },
  {
   "cell_type": "code",
   "execution_count": 6,
   "id": "cf8a2619-9c84-47bf-a0f3-907f7ba608f0",
   "metadata": {},
   "outputs": [],
   "source": [
    "X = df['processed_ingredients']\n",
    "y= df['health_label']\n"
   ]
  },
  {
   "cell_type": "markdown",
   "id": "7d19782a-ba2d-458d-9d73-89bae62e28ad",
   "metadata": {},
   "source": [
    "#### Baseline Accuracy\n"
   ]
  },
  {
   "cell_type": "code",
   "execution_count": 8,
   "id": "facd12f5-b23b-4ec5-96b0-2638d86b9dad",
   "metadata": {},
   "outputs": [
    {
     "data": {
      "text/plain": [
       "health_label\n",
       "0    0.930387\n",
       "1    0.069613\n",
       "Name: proportion, dtype: float64"
      ]
     },
     "execution_count": 8,
     "metadata": {},
     "output_type": "execute_result"
    }
   ],
   "source": [
    "y.value_counts(normalize = True)# unbalance class so we need to stratify"
   ]
  },
  {
   "cell_type": "markdown",
   "id": "a5283520-9cfe-439d-bc6f-25f22db92065",
   "metadata": {},
   "source": [
    "#### Train test split"
   ]
  },
  {
   "cell_type": "code",
   "execution_count": 10,
   "id": "451e3d07-4ca2-4bd0-91e5-cde23689f311",
   "metadata": {},
   "outputs": [],
   "source": [
    "X_train,X_test,y_train,y_test = train_test_split(X,y,random_state=42,stratify=y)"
   ]
  },
  {
   "cell_type": "markdown",
   "id": "7bce1580-00f1-489d-8276-8da44bdda43d",
   "metadata": {},
   "source": [
    "### Logistic Regression"
   ]
  },
  {
   "cell_type": "code",
   "execution_count": 12,
   "id": "c67a664b-08ba-4487-89d0-55a94f34e625",
   "metadata": {},
   "outputs": [
    {
     "name": "stderr",
     "output_type": "stream",
     "text": [
      "/opt/anaconda3/lib/python3.11/site-packages/numpy/ma/core.py:2820: RuntimeWarning: invalid value encountered in cast\n",
      "  _data = np.array(data, dtype=dtype, copy=copy,\n"
     ]
    },
    {
     "name": "stdout",
     "output_type": "stream",
     "text": [
      " Best parameters:{'cvec__max_df': 0.75, 'cvec__max_features': None, 'cvec__min_df': 2, 'cvec__ngram_range': (1, 2), 'logr__C': 10, 'logr__penalty': 'l2', 'logr__solver': 'liblinear'}\n",
      " Best score:0.9905161207163928\n"
     ]
    }
   ],
   "source": [
    "logr_pipeline = Pipeline(\n",
    "    [\n",
    "        ('cvec',CountVectorizer()),\n",
    "        ('logr',LogisticRegression())\n",
    "]\n",
    ")\n",
    "grid_params = {\n",
    "    'cvec__ngram_range': [(1, 1), (1, 2)],  # Unigrams and bigrams\n",
    "    'cvec__max_df': [0.75, 0.85, 1.0],      # Ignore very frequent words\n",
    "    'cvec__min_df': [1, 2, 5],              # Ignore very infrequent words\n",
    "    'cvec__max_features': [None, 1000,5000, 10000],  # Limit on the number of features\n",
    "\n",
    "    'logr__C': [0.01, 0.1, 1.0, 10],        # Regularization strength\n",
    "    'logr__penalty': ['l2'],                # L2 regularization (Ridge)\n",
    "    'logr__solver': ['lbfgs', 'liblinear']  # Solvers suitable for small datasets\n",
    "}\n",
    "\n",
    "gs_logr = GridSearchCV(logr_pipeline,param_grid=grid_params,n_jobs=-1)\n",
    "gs_logr.fit(X_train,y_train)\n",
    "print(f' Best parameters:{gs_logr.best_params_}')\n",
    "print(f' Best score:{gs_logr.best_score_}')"
   ]
  },
  {
   "cell_type": "code",
   "execution_count": 13,
   "id": "de1efb9b-c6eb-48a2-b98a-a35131820a8a",
   "metadata": {},
   "outputs": [
    {
     "data": {
      "text/plain": [
       "array([[-1.04608667e-01, -5.99056640e-06, -5.87780696e-04, ...,\n",
       "        -1.03456208e-04, -1.03456208e-04, -1.03456208e-04]])"
      ]
     },
     "execution_count": 13,
     "metadata": {},
     "output_type": "execute_result"
    }
   ],
   "source": [
    "gs_logr.best_estimator_.named_steps['logr'].intercept_\n",
    "gs_logr.best_estimator_.named_steps['logr'].coef_"
   ]
  },
  {
   "cell_type": "code",
   "execution_count": 14,
   "id": "1824df45-58b8-443d-8efa-93edbb38e80d",
   "metadata": {},
   "outputs": [
    {
     "name": "stdout",
     "output_type": "stream",
     "text": [
      "Logistic Regression Intercept: [-7.65156461]\n",
      "Logistic Regression Coefficients: [[-1.04608667e-01 -5.99056640e-06 -5.87780696e-04 ... -1.03456208e-04\n",
      "  -1.03456208e-04 -1.03456208e-04]]\n",
      "Top 5 positive coefficients:\n",
      "             Feature  Coefficient\n",
      "10788    carrageenan     7.359361\n",
      "7961             bht     5.510097\n",
      "48746       sulfites     4.559344\n",
      "10341  caramel color     3.977068\n",
      "48052      sucralose     3.694896\n",
      "Top 5 negative coefficients:\n",
      "                 Feature  Coefficient\n",
      "53301         wax allura    -1.335994\n",
      "21963  flavour potassium    -1.435184\n",
      "7799    benzoate caramel    -1.905287\n",
      "40912       preservative    -2.042078\n",
      "40936      preservatives    -2.263817\n"
     ]
    }
   ],
   "source": [
    "\n",
    "#Logistic Regression Coefficients \n",
    "print(f\"Logistic Regression Intercept: {gs_logr.best_estimator_.named_steps['logr'].intercept_}\")\n",
    "print(f\"Logistic Regression Coefficients: {gs_logr.best_estimator_.named_steps['logr'].coef_}\")\n",
    "coefficients=gs_logr.best_estimator_.named_steps['logr'].coef_.ravel()\n",
    "vectorizer = gs_logr.best_estimator_.named_steps['cvec']\n",
    "feature_names = vectorizer.get_feature_names_out()\n",
    "coefficients_df = pd.DataFrame({'Feature': feature_names, 'Coefficient': coefficients})\n",
    "coefficients_df = coefficients_df.sort_values(by='Coefficient', ascending=False)\n",
    "coefficients_df.head(),coefficients_df.tail(),\n",
    "top_features = coefficients_df.head()\n",
    "bottom_features = coefficients_df.tail()\n",
    "\n",
    "\n",
    "print(f\"Top 5 positive coefficients:\\n{top_features}\")\n",
    "print(f\"Top 5 negative coefficients:\\n{bottom_features}\")"
   ]
  },
  {
   "cell_type": "code",
   "execution_count": 20,
   "id": "f09e32d6-ff84-423f-8cb7-e26246c72a92",
   "metadata": {
    "scrolled": true
   },
   "outputs": [
    {
     "name": "stdout",
     "output_type": "stream",
     "text": [
      "Training Accuracy of Logistic Regression with Count Vectorizer: 1.0\n",
      "Testing Accuracy of Logistic Regression with Count Vectorizer: 0.99\n",
      "Training Misclassification Rate: 0.0\n",
      "Testing Misclassification Rate: 0.01\n",
      "Logistic Regression specificity: 1.0\n",
      "Logistic Regression recall: 0.93\n",
      "Logistic Regression F1_score not healthy: 0.95\n",
      "Logistic Regression F1_score healthy : 1.0\n"
     ]
    }
   ],
   "source": [
    "preds = gs_logr.predict(X_test)\n",
    "\n",
    "logr_train_accuracy = round(gs_logr.score(X_train, y_train), 2)\n",
    "logr_test_accuracy = round(gs_logr.score(X_test, y_test), 2)\n",
    "\n",
    "logr_train_misclassification_rate = round(1 - logr_train_accuracy, 2)\n",
    "logr_test_misclassification_rate = round(1 - logr_test_accuracy, 2)\n",
    "\n",
    "print(f'Training Accuracy of Logistic Regression with Count Vectorizer: {logr_train_accuracy}')\n",
    "print(f'Testing Accuracy of Logistic Regression with Count Vectorizer: {logr_test_accuracy}')\n",
    "\n",
    "print(f'Training Misclassification Rate: {logr_train_misclassification_rate}')\n",
    "print(f'Testing Misclassification Rate: {logr_test_misclassification_rate}')\n",
    "#specificity\n",
    "\n",
    "tn, fp, fn, tp = confusion_matrix(y_test, preds).ravel()\n",
    "\n",
    "logr_spec = tn / (tn + fp)\n",
    "print(f'Logistic Regression specificity: {round(logr_spec,2)}')\n",
    "# recall\n",
    "\n",
    "logr_recall = tp / (tp + fn)\n",
    "\n",
    "print(f'Logistic Regression recall: {round(logr_recall,2)}')\n",
    "logr_f1_tech = f1_score(y_test, preds, pos_label=1)\n",
    "logr_f1_gad = f1_score(y_test, preds, pos_label=0)\n",
    "\n",
    "print(f'Logistic Regression F1_score not healthy: {round(logr_f1_tech,2)}')\n",
    "print(f'Logistic Regression F1_score healthy : {round(logr_f1_gad,2)}')"
   ]
  },
  {
   "cell_type": "code",
   "execution_count": 22,
   "id": "8260798b-2914-4cd7-8269-56aa31757968",
   "metadata": {},
   "outputs": [
    {
     "name": "stdout",
     "output_type": "stream",
     "text": [
      "              precision    recall  f1-score   support\n",
      "\n",
      "           0       0.99      1.00      1.00      5984\n",
      "           1       0.96      0.93      0.95       448\n",
      "\n",
      "    accuracy                           0.99      6432\n",
      "   macro avg       0.98      0.97      0.97      6432\n",
      "weighted avg       0.99      0.99      0.99      6432\n",
      "\n"
     ]
    }
   ],
   "source": [
    "#classification report\n",
    "print(classification_report(y_test, preds))"
   ]
  },
  {
   "cell_type": "code",
   "execution_count": 24,
   "id": "72ff8f86-3328-4fc0-9a46-a87fed5567f2",
   "metadata": {},
   "outputs": [
    {
     "data": {
      "image/png": "[encoded data removed]",
      "text/plain": [
       "<Figure size 640x480 with 2 Axes>"
      ]
     },
     "metadata": {},
     "output_type": "display_data"
    },
    {
     "data": {
      "image/png": "[encoded data removed]",
      "text/plain": [
       "<Figure size 640x480 with 1 Axes>"
      ]
     },
     "metadata": {},
     "output_type": "display_data"
    }
   ],
   "source": [
    "ConfusionMatrixDisplay.from_estimator(gs_logr,X_test,y_test);\n",
    "RocCurveDisplay.from_estimator(gs_logr,X_test,y_test);"
   ]
  },
  {
   "cell_type": "markdown",
   "id": "ba35d9c0-17ec-4e2a-8e00-6aa26739233e",
   "metadata": {},
   "source": [
    "### Naive Base Classifier"
   ]
  },
  {
   "cell_type": "code",
   "execution_count": 26,
   "id": "ba084b17-ff4f-468a-bdbe-9c24f514dec3",
   "metadata": {},
   "outputs": [
    {
     "name": "stdout",
     "output_type": "stream",
     "text": [
      " Best parameters:{'nb__alpha': 1.0, 'tf-idf__max_df': 0.9, 'tf-idf__max_features': 4000, 'tf-idf__min_df': 4, 'tf-idf__ngram_range': (1, 1), 'tf-idf__stop_words': None}\n",
      " Best score:0.9575041052005473\n"
     ]
    }
   ],
   "source": [
    "pipe_nb =Pipeline(\n",
    "    [\n",
    "        ('tf-idf',TfidfVectorizer()),\n",
    "        ('nb',MultinomialNB())\n",
    "    ]\n",
    ")\n",
    "\n",
    "\n",
    "grid_params = {\n",
    "    'tf-idf__ngram_range': [(1, 1), (1, 2), (1, 3)],\n",
    "    'tf-idf__stop_words': [None, 'english'],\n",
    "    'tf-idf__max_features': range(2000, 4001, 1000),\n",
    "    'tf-idf__min_df': [2, 4],\n",
    "    'tf-idf__max_df': np.linspace(0.9, 0.99, 5),\n",
    "    'nb__alpha': [0.1, 0.5, 1.0]            # Smoothing parameter for Naive Bayes\n",
    "   \n",
    "}\n",
    "\n",
    "gs_nb = GridSearchCV(pipe_nb, grid_params, n_jobs=-1, cv=5)\n",
    "gs_nb.fit(X_train, y_train)\n",
    "\n",
    "print(f' Best parameters:{gs_nb.best_params_}')\n",
    "print(f' Best score:{gs_nb.best_score_}')"
   ]
  },
  {
   "cell_type": "code",
   "execution_count": 38,
   "id": "6ba1e1c3-e4cc-4076-8068-cf1d0d7c0716",
   "metadata": {
    "scrolled": true
   },
   "outputs": [
    {
     "name": "stdout",
     "output_type": "stream",
     "text": [
      "Training Accuracy of Naive bayes  with TF-IDF Vectorizer: 0.96\n",
      "Testing Accuracy of Naive bayes  with TF-IDF Vectorizer: 0.96\n",
      "Training Misclassification Rate: 0.04\n",
      "Testing Misclassification Rate: 0.04\n",
      "cross val score of Naive Bayes :0.9575041052005473\n",
      "Naive Bayes specificity: 0.98\n",
      "Naive Bayes recall: 0.71\n",
      "Naive bayes F1_score not healthy: 0.7\n",
      "Naive bayes  F1_score healthy : 0.98\n"
     ]
    }
   ],
   "source": [
    "pred_nb = gs_nb.predict(X_test)\n",
    "\n",
    "nb_train_accuracy = round(gs_nb.score(X_train, y_train), 2)\n",
    "nb_test_accuracy = round(gs_nb.score(X_test, y_test), 2)\n",
    "\n",
    "nb_train_misclassification_rate = round(1 - nb_train_accuracy, 2)\n",
    "nb_test_misclassification_rate = round(1 - nb_test_accuracy, 2)\n",
    "\n",
    "print(f'Training Accuracy of Naive bayes  with TF-IDF Vectorizer: {nb_train_accuracy}')\n",
    "print(f'Testing Accuracy of Naive bayes  with TF-IDF Vectorizer: {nb_test_accuracy}')\n",
    "\n",
    "print(f'Training Misclassification Rate: {nb_train_misclassification_rate}')\n",
    "print(f'Testing Misclassification Rate: {nb_test_misclassification_rate}')\n",
    "# Perform cross-validation on the entire training data using the final model\n",
    "cross_val_scores = cross_val_score(gs_nb.best_estimator_, X_train, y_train, cv=5, n_jobs=-1)\n",
    "\n",
    "# Calculate the mean cross-validation score\n",
    "mean_cross_val_score = cross_val_scores.mean()\n",
    "print(f'cross val score of Naive Bayes :{mean_cross_val_score}')\n",
    "\n",
    "#specificity\n",
    "\n",
    "tn, fp, fn, tp = confusion_matrix(y_test, pred_nb).ravel()\n",
    "\n",
    "nb_spec = tn / (tn + fp)\n",
    "print(f'Naive Bayes specificity: {round(nb_spec,2)}')\n",
    "# recall\n",
    "\n",
    "nb_recall = tp / (tp + fn)\n",
    "\n",
    "print(f'Naive Bayes recall: {round(nb_recall,2)}')\n",
    "nb_f1_tech = f1_score(y_test, pred_nb, pos_label=1)\n",
    "nb_f1_gad = f1_score(y_test, pred_nb, pos_label=0)\n",
    "\n",
    "\n",
    "print(f'Naive bayes F1_score not healthy: {round(nb_f1_tech,2)}')\n",
    "print(f'Naive bayes  F1_score healthy : {round(nb_f1_gad,2)}')"
   ]
  },
  {
   "cell_type": "code",
   "execution_count": 40,
   "id": "c9f051ed-1900-430c-9bbe-04feec336e3b",
   "metadata": {
    "scrolled": true
   },
   "outputs": [
    {
     "name": "stdout",
     "output_type": "stream",
     "text": [
      "              precision    recall  f1-score   support\n",
      "\n",
      "           0       0.98      0.98      0.98      5984\n",
      "           1       0.69      0.71      0.70       448\n",
      "\n",
      "    accuracy                           0.96      6432\n",
      "   macro avg       0.83      0.85      0.84      6432\n",
      "weighted avg       0.96      0.96      0.96      6432\n",
      "\n"
     ]
    }
   ],
   "source": [
    "#classification report\n",
    "print(classification_report(y_test, pred_nb))"
   ]
  },
  {
   "cell_type": "code",
   "execution_count": 42,
   "id": "e9e5a361-340c-46c8-a730-ca03f7897200",
   "metadata": {
    "scrolled": true
   },
   "outputs": [
    {
     "data": {
      "image/png": "[encoded data removed]",
      "text/plain": [
       "<Figure size 640x480 with 2 Axes>"
      ]
     },
     "metadata": {},
     "output_type": "display_data"
    },
    {
     "data": {
      "image/png": "[encoded data removed]",
      "text/plain": [
       "<Figure size 640x480 with 1 Axes>"
      ]
     },
     "metadata": {},
     "output_type": "display_data"
    }
   ],
   "source": [
    "ConfusionMatrixDisplay.from_estimator(gs_nb,X_test,y_test);\n",
    "RocCurveDisplay.from_estimator(gs_nb,X_test,y_test);"
   ]
  },
  {
   "cell_type": "code",
   "execution_count": 72,
   "id": "1ca0d044-9de8-4a07-b35e-ac63c29b957c",
   "metadata": {},
   "outputs": [],
   "source": [
    "\n",
    "with open('../models/foodclassifier.pkl', 'wb') as pickle_out:\n",
    "    pickle.dump(gs_nb.best_estimator_, pickle_out)\n"
   ]
  },
  {
   "cell_type": "code",
   "execution_count": null,
   "id": "7c2e9dc7-ff8f-445f-a171-67edb1909dce",
   "metadata": {},
   "outputs": [],
   "source": []
  },
  {
   "cell_type": "code",
   "execution_count": 69,
   "id": "e12f2c9a-4047-49b3-87cb-787335eda75c",
   "metadata": {},
   "outputs": [
    {
     "name": "stdout",
     "output_type": "stream",
     "text": [
      "Best Parameters: {'gb__learning_rate': 0.1, 'gb__max_depth': None, 'gb__n_estimators': 100}\n",
      "Best Score: 0.9883913253050872\n"
     ]
    }
   ],
   "source": [
    "pipe_gb = Pipeline(\n",
    "    [\n",
    "        ('tfidf', TfidfVectorizer()),  # Step 1: Convert text data to numerical format\n",
    "        ('gb', GradientBoostingClassifier(random_state=42))  # Step 2: Gradient Boosting\n",
    "    ]\n",
    ")\n",
    "\n",
    "# Define the hyperparameter grid\n",
    "gb_best_params = {\n",
    "    'gb__n_estimators': [10, 100],       # Number of trees\n",
    "    'gb__max_depth': [None, 1, 2, 3],   # Depth of trees\n",
    "    'gb__learning_rate': [0.1, 1, 10],  # Learning rate\n",
    "}\n",
    "\n",
    "# Instantiate GridSearchCV\n",
    "gs = GridSearchCV(pipe_gb, param_grid=gb_best_params, cv=5, n_jobs=-1, scoring='accuracy')\n",
    "\n",
    "# Fit the GridSearchCV\n",
    "gs.fit(X_train, y_train)\n",
    "\n",
    "# Print the best parameters and score\n",
    "print(\"Best Parameters:\", gs.best_params_)\n",
    "print(\"Best Score:\", gs.best_score_)"
   ]
  },
  {
   "cell_type": "code",
   "execution_count": null,
   "id": "d67de432-13b8-4a16-825f-3420be0add30",
   "metadata": {},
   "outputs": [],
   "source": []
  },
  {
   "cell_type": "code",
   "execution_count": null,
   "id": "370a5c26-706c-4052-a09b-97f33284c2d9",
   "metadata": {},
   "outputs": [],
   "source": []
  }
 ],
 "metadata": {
  "kernelspec": {
   "display_name": "Python 3 (ipykernel)",
   "language": "python",
   "name": "python3"
  },
  "language_info": {
   "codemirror_mode": {
    "name": "ipython",
    "version": 3
   },
   "file_extension": ".py",
   "mimetype": "text/x-python",
   "name": "python",
   "nbconvert_exporter": "python",
   "pygments_lexer": "ipython3",
   "version": "3.11.9"
  }
 },
 "nbformat": 4,
 "nbformat_minor": 5
}
