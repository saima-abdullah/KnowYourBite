{
 "cells": [
  {
   "cell_type": "code",
   "execution_count": 171,
   "id": "f676b738-7bec-4997-b89b-769b8309f901",
   "metadata": {},
   "outputs": [],
   "source": [
    "import requests\n",
    "from bs4 import BeautifulSoup\n",
    "import time\n",
    "import pandas as pd \n",
    "#url to get the table of additives\n",
    "url = \"https://www.cspinet.org/api/tables/15\"\n",
    "\n",
    "response = requests.get(url)\n",
    "\n",
    "if response.status_code != 200:\n",
    "    print(f\"Failed to fetch the page. Status code: {response.status_code}\")\n",
    "    exit()\n",
    "data = response.json()# data is in json format \n",
    "#print(data)\n",
    "additives = data['table_data']\n",
    "#print(data['table_data'])\n",
    "\n",
    "avoid_additives =[entry for entry in  data['table_data'] if entry['cell_1']=='Avoid']\n",
    "    #url to get the health concerns for the addictives\n",
    "base_url = 'https://www.cspinet.org/article/'\n",
    "    #print(avoid_additives)\n",
    "results = []\n",
    "for entry in avoid_additives:\n",
    "    name = entry['cell_0']\n",
    "    purpose =entry['cell_2']\n",
    "    #health_concern = 'N/A'\n",
    "    url_hc = base_url+name.lower().replace(\" \",\"-\")\n",
    "    detail_response=requests.get(url_hc)\n",
    "    detail_soup = BeautifulSoup(detail_response.content,'html.parser')\n",
    "    if detail_response.status_code == 200:\n",
    "        detail_soup = BeautifulSoup(detail_response.content, 'html.parser')\n",
    "        p_tags = detail_soup.find_all('p')\n",
    "        for p in p_tags:\n",
    "            strong_tags = p.find('strong')\n",
    "            if strong_tags and 'Health Concerns:' in strong_tags.get_text():\n",
    "                health_concerns_p = p\n",
    "                health_concern =p.get_text().replace('Health Concerns:','').strip()\n",
    "                #print(health_concerns)\n",
    "                break;\n",
    "            #else:\n",
    "             #   print(f\"Failed to fetch detail page for {name}. Status code: {detail_response.status_code}\")\n",
    "    else:\n",
    "        health_concern=entry['cell_3']\n",
    "    results.append({\n",
    "            'ingredient':name,\n",
    "            'purpose':purpose,\n",
    "            'health concern':health_concern\n",
    "        })\n",
    "    \n",
    "    # Print the latest result\n",
    "    #print(results[-1])\n",
    "\n",
    "    # Add a delay to be respectful to the server\n",
    "    time.sleep(1)\n",
    "\n",
    "df = pd.DataFrame(results)\n",
    "df.to_csv('./data/avoid_additives.csv',index=False)\n",
    "            \n",
    "        \n",
    "      "
   ]
  },
  {
   "cell_type": "raw",
   "id": "db5fcf84-e5fe-424d-8640-aa07e634d0ce",
   "metadata": {},
   "source": []
  },
  {
   "cell_type": "code",
   "execution_count": null,
   "id": "f7bf1f65-7432-4255-98b6-d311cfd73427",
   "metadata": {},
   "outputs": [],
   "source": []
  }
 ],
 "metadata": {
  "kernelspec": {
   "display_name": "Python 3 (ipykernel)",
   "language": "python",
   "name": "python3"
  },
  "language_info": {
   "codemirror_mode": {
    "name": "ipython",
    "version": 3
   },
   "file_extension": ".py",
   "mimetype": "text/x-python",
   "name": "python",
   "nbconvert_exporter": "python",
   "pygments_lexer": "ipython3",
   "version": "3.11.9"
  }
 },
 "nbformat": 4,
 "nbformat_minor": 5
}
