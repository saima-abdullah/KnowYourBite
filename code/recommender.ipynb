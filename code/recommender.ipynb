{
 "cells": [
  {
   "cell_type": "code",
   "execution_count": 29,
   "id": "be5baf1f-5bfc-4832-9794-1b6151452c0a",
   "metadata": {},
   "outputs": [],
   "source": [
    "import pandas as pd\n",
    "from sklearn.feature_extraction.text import TfidfVectorizer\n",
    "from sklearn.metrics.pairwise import cosine_similarity"
   ]
  },
  {
   "cell_type": "code",
   "execution_count": 30,
   "id": "a9c9e2c6-d630-4b67-8aae-d11b2f8f9b0d",
   "metadata": {},
   "outputs": [
    {
     "data": {
      "text/html": [
       "<div>\n",
       "<style scoped>\n",
       "    .dataframe tbody tr th:only-of-type {\n",
       "        vertical-align: middle;\n",
       "    }\n",
       "\n",
       "    .dataframe tbody tr th {\n",
       "        vertical-align: top;\n",
       "    }\n",
       "\n",
       "    .dataframe thead th {\n",
       "        text-align: right;\n",
       "    }\n",
       "</style>\n",
       "<table border=\"1\" class=\"dataframe\">\n",
       "  <thead>\n",
       "    <tr style=\"text-align: right;\">\n",
       "      <th></th>\n",
       "      <th>brands</th>\n",
       "      <th>product_name</th>\n",
       "      <th>categories</th>\n",
       "      <th>countries</th>\n",
       "      <th>food_groups_tags</th>\n",
       "      <th>food_groups</th>\n",
       "      <th>ingredients_text</th>\n",
       "      <th>category_name</th>\n",
       "      <th>country</th>\n",
       "      <th>processed_ingredients</th>\n",
       "      <th>health_label</th>\n",
       "    </tr>\n",
       "  </thead>\n",
       "  <tbody>\n",
       "    <tr>\n",
       "      <th>0</th>\n",
       "      <td>Mutti,POLPA</td>\n",
       "      <td>pulpe de tomates</td>\n",
       "      <td>Pflanzliche Lebensmittel und Getränke,Pflanzli...</td>\n",
       "      <td>Australien,Österreich,Belgien,Kanada,Frankreic...</td>\n",
       "      <td>['en:fruits-and-vegetables', 'en:vegetables']</td>\n",
       "      <td>en:vegetables</td>\n",
       "      <td>tomatoes 99.8%, salt</td>\n",
       "      <td>Plant-based foods and beverages</td>\n",
       "      <td>canada</td>\n",
       "      <td>tomatoes 99.8%, salt</td>\n",
       "      <td>healthy</td>\n",
       "    </tr>\n",
       "    <tr>\n",
       "      <th>1</th>\n",
       "      <td>Maïzena, Unilever</td>\n",
       "      <td>Maizena Fleur de Maïs Sans Gluten 400g</td>\n",
       "      <td>Plant-based foods and beverages, Plant-based f...</td>\n",
       "      <td>Belgique, Canada, France, Martinique, La Réuni...</td>\n",
       "      <td>['en:cereals-and-potatoes', 'en:cereals']</td>\n",
       "      <td>en:cereals</td>\n",
       "      <td>Amidon de maïs.</td>\n",
       "      <td>Plant-based foods and beverages</td>\n",
       "      <td>canada</td>\n",
       "      <td>amidon de maïs.</td>\n",
       "      <td>healthy</td>\n",
       "    </tr>\n",
       "    <tr>\n",
       "      <th>2</th>\n",
       "      <td>Barilla</td>\n",
       "      <td>Lasagne all'uovo</td>\n",
       "      <td>Cibi e bevande a base vegetale, Cibi a base ve...</td>\n",
       "      <td>Belgium,Canada,Croatia,France,Germany,Greece,H...</td>\n",
       "      <td>['en:cereals-and-potatoes', 'en:cereals']</td>\n",
       "      <td>en:cereals</td>\n",
       "      <td>Semola di grano duro, uova fresche di categori...</td>\n",
       "      <td>Plant-based foods and beverages</td>\n",
       "      <td>canada</td>\n",
       "      <td>semola di grano duro, uova fresche di categori...</td>\n",
       "      <td>healthy</td>\n",
       "    </tr>\n",
       "    <tr>\n",
       "      <th>3</th>\n",
       "      <td>Tipiak</td>\n",
       "      <td>Fine chapelure de pain</td>\n",
       "      <td>Aliments et boissons à base de végétaux,Alimen...</td>\n",
       "      <td>Canada,France</td>\n",
       "      <td>['en:cereals-and-potatoes', 'en:bread']</td>\n",
       "      <td>en:bread</td>\n",
       "      <td>Farine de blé (gluten), sel, levure, Traces po...</td>\n",
       "      <td>Plant-based foods and beverages</td>\n",
       "      <td>canada</td>\n",
       "      <td>farine de blé (gluten), sel, levure, traces po...</td>\n",
       "      <td>healthy</td>\n",
       "    </tr>\n",
       "    <tr>\n",
       "      <th>4</th>\n",
       "      <td>Zespri,Sungold,Catania,ALDI Zespri</td>\n",
       "      <td>Kiwi Sungold</td>\n",
       "      <td>Aliments et boissons à base de végétaux,Alimen...</td>\n",
       "      <td>Belgique,Canada,France,Allemagne,Pologne,Espag...</td>\n",
       "      <td>['en:fruits-and-vegetables', 'en:fruits']</td>\n",
       "      <td>en:fruits</td>\n",
       "      <td>Kiwifruit</td>\n",
       "      <td>Plant-based foods and beverages</td>\n",
       "      <td>canada</td>\n",
       "      <td>kiwifruit</td>\n",
       "      <td>healthy</td>\n",
       "    </tr>\n",
       "  </tbody>\n",
       "</table>\n",
       "</div>"
      ],
      "text/plain": [
       "                               brands                            product_name  \\\n",
       "0                         Mutti,POLPA                        pulpe de tomates   \n",
       "1                   Maïzena, Unilever  Maizena Fleur de Maïs Sans Gluten 400g   \n",
       "2                             Barilla                        Lasagne all'uovo   \n",
       "3                              Tipiak                  Fine chapelure de pain   \n",
       "4  Zespri,Sungold,Catania,ALDI Zespri                            Kiwi Sungold   \n",
       "\n",
       "                                          categories  \\\n",
       "0  Pflanzliche Lebensmittel und Getränke,Pflanzli...   \n",
       "1  Plant-based foods and beverages, Plant-based f...   \n",
       "2  Cibi e bevande a base vegetale, Cibi a base ve...   \n",
       "3  Aliments et boissons à base de végétaux,Alimen...   \n",
       "4  Aliments et boissons à base de végétaux,Alimen...   \n",
       "\n",
       "                                           countries  \\\n",
       "0  Australien,Österreich,Belgien,Kanada,Frankreic...   \n",
       "1  Belgique, Canada, France, Martinique, La Réuni...   \n",
       "2  Belgium,Canada,Croatia,France,Germany,Greece,H...   \n",
       "3                                      Canada,France   \n",
       "4  Belgique,Canada,France,Allemagne,Pologne,Espag...   \n",
       "\n",
       "                                food_groups_tags    food_groups  \\\n",
       "0  ['en:fruits-and-vegetables', 'en:vegetables']  en:vegetables   \n",
       "1      ['en:cereals-and-potatoes', 'en:cereals']     en:cereals   \n",
       "2      ['en:cereals-and-potatoes', 'en:cereals']     en:cereals   \n",
       "3        ['en:cereals-and-potatoes', 'en:bread']       en:bread   \n",
       "4      ['en:fruits-and-vegetables', 'en:fruits']      en:fruits   \n",
       "\n",
       "                                    ingredients_text  \\\n",
       "0                               tomatoes 99.8%, salt   \n",
       "1                                    Amidon de maïs.   \n",
       "2  Semola di grano duro, uova fresche di categori...   \n",
       "3  Farine de blé (gluten), sel, levure, Traces po...   \n",
       "4                                          Kiwifruit   \n",
       "\n",
       "                     category_name country  \\\n",
       "0  Plant-based foods and beverages  canada   \n",
       "1  Plant-based foods and beverages  canada   \n",
       "2  Plant-based foods and beverages  canada   \n",
       "3  Plant-based foods and beverages  canada   \n",
       "4  Plant-based foods and beverages  canada   \n",
       "\n",
       "                               processed_ingredients health_label  \n",
       "0                               tomatoes 99.8%, salt      healthy  \n",
       "1                                    amidon de maïs.      healthy  \n",
       "2  semola di grano duro, uova fresche di categori...      healthy  \n",
       "3  farine de blé (gluten), sel, levure, traces po...      healthy  \n",
       "4                                          kiwifruit      healthy  "
      ]
     },
     "execution_count": 30,
     "metadata": {},
     "output_type": "execute_result"
    }
   ],
   "source": [
    "df = pd.read_csv('../data/final_data.csv')\n",
    "df.head()"
   ]
  },
  {
   "cell_type": "code",
   "execution_count": 31,
   "id": "fcdddb71-e331-4061-934d-277e6d2baacd",
   "metadata": {},
   "outputs": [
    {
     "data": {
      "text/plain": [
       "Index(['brands', 'product_name', 'categories', 'countries', 'food_groups_tags',\n",
       "       'food_groups', 'ingredients_text', 'category_name', 'country',\n",
       "       'processed_ingredients', 'health_label'],\n",
       "      dtype='object')"
      ]
     },
     "execution_count": 31,
     "metadata": {},
     "output_type": "execute_result"
    }
   ],
   "source": [
    "df.columns"
   ]
  },
  {
   "cell_type": "code",
   "execution_count": 32,
   "id": "4169256e-01c3-4de3-9e05-514790fbf1a8",
   "metadata": {
    "scrolled": true
   },
   "outputs": [
    {
     "data": {
      "text/html": [
       "<div>\n",
       "<style scoped>\n",
       "    .dataframe tbody tr th:only-of-type {\n",
       "        vertical-align: middle;\n",
       "    }\n",
       "\n",
       "    .dataframe tbody tr th {\n",
       "        vertical-align: top;\n",
       "    }\n",
       "\n",
       "    .dataframe thead th {\n",
       "        text-align: right;\n",
       "    }\n",
       "</style>\n",
       "<table border=\"1\" class=\"dataframe\">\n",
       "  <thead>\n",
       "    <tr style=\"text-align: right;\">\n",
       "      <th></th>\n",
       "      <th>product_name</th>\n",
       "      <th>food_groups</th>\n",
       "      <th>processed_ingredients</th>\n",
       "      <th>health_label</th>\n",
       "    </tr>\n",
       "  </thead>\n",
       "  <tbody>\n",
       "    <tr>\n",
       "      <th>0</th>\n",
       "      <td>pulpe de tomates</td>\n",
       "      <td>en:vegetables</td>\n",
       "      <td>tomatoes 99.8%, salt</td>\n",
       "      <td>healthy</td>\n",
       "    </tr>\n",
       "    <tr>\n",
       "      <th>1</th>\n",
       "      <td>Maizena Fleur de Maïs Sans Gluten 400g</td>\n",
       "      <td>en:cereals</td>\n",
       "      <td>amidon de maïs.</td>\n",
       "      <td>healthy</td>\n",
       "    </tr>\n",
       "    <tr>\n",
       "      <th>2</th>\n",
       "      <td>Lasagne all'uovo</td>\n",
       "      <td>en:cereals</td>\n",
       "      <td>semola di grano duro, uova fresche di categori...</td>\n",
       "      <td>healthy</td>\n",
       "    </tr>\n",
       "    <tr>\n",
       "      <th>3</th>\n",
       "      <td>Fine chapelure de pain</td>\n",
       "      <td>en:bread</td>\n",
       "      <td>farine de blé (gluten), sel, levure, traces po...</td>\n",
       "      <td>healthy</td>\n",
       "    </tr>\n",
       "    <tr>\n",
       "      <th>4</th>\n",
       "      <td>Kiwi Sungold</td>\n",
       "      <td>en:fruits</td>\n",
       "      <td>kiwifruit</td>\n",
       "      <td>healthy</td>\n",
       "    </tr>\n",
       "  </tbody>\n",
       "</table>\n",
       "</div>"
      ],
      "text/plain": [
       "                             product_name    food_groups  \\\n",
       "0                        pulpe de tomates  en:vegetables   \n",
       "1  Maizena Fleur de Maïs Sans Gluten 400g     en:cereals   \n",
       "2                        Lasagne all'uovo     en:cereals   \n",
       "3                  Fine chapelure de pain       en:bread   \n",
       "4                            Kiwi Sungold      en:fruits   \n",
       "\n",
       "                               processed_ingredients health_label  \n",
       "0                               tomatoes 99.8%, salt      healthy  \n",
       "1                                    amidon de maïs.      healthy  \n",
       "2  semola di grano duro, uova fresche di categori...      healthy  \n",
       "3  farine de blé (gluten), sel, levure, traces po...      healthy  \n",
       "4                                          kiwifruit      healthy  "
      ]
     },
     "execution_count": 32,
     "metadata": {},
     "output_type": "execute_result"
    }
   ],
   "source": [
    "data = df[['product_name','food_groups','processed_ingredients','health_label']]\n",
    "data.head()\n"
   ]
  },
  {
   "cell_type": "code",
   "execution_count": 33,
   "id": "6b591ae6-c81b-4d6f-a9a9-0e7f1d700556",
   "metadata": {},
   "outputs": [
    {
     "name": "stderr",
     "output_type": "stream",
     "text": [
      "/var/folders/cm/33j13stn00579z5k7swhdxcw0000gp/T/ipykernel_1511/3637047359.py:2: SettingWithCopyWarning: \n",
      "A value is trying to be set on a copy of a slice from a DataFrame.\n",
      "Try using .loc[row_indexer,col_indexer] = value instead\n",
      "\n",
      "See the caveats in the documentation: https://pandas.pydata.org/pandas-docs/stable/user_guide/indexing.html#returning-a-view-versus-a-copy\n",
      "  data['product_name']= data['product_name'].str.lower().str.strip()\n",
      "/var/folders/cm/33j13stn00579z5k7swhdxcw0000gp/T/ipykernel_1511/3637047359.py:3: SettingWithCopyWarning: \n",
      "A value is trying to be set on a copy of a slice from a DataFrame.\n",
      "Try using .loc[row_indexer,col_indexer] = value instead\n",
      "\n",
      "See the caveats in the documentation: https://pandas.pydata.org/pandas-docs/stable/user_guide/indexing.html#returning-a-view-versus-a-copy\n",
      "  data['food_groups']=data['food_groups'].str.replace('en:','').str.lower().str.strip()\n"
     ]
    }
   ],
   "source": [
    "#standarized the column name \n",
    "data['product_name']= data['product_name'].str.lower().str.strip()\n",
    "data['food_groups']=data['food_groups'].str.replace('en:','').str.lower().str.strip()"
   ]
  },
  {
   "cell_type": "code",
   "execution_count": 34,
   "id": "4ee513ee-31fc-416b-a725-a07ecae7607d",
   "metadata": {},
   "outputs": [],
   "source": [
    "# Vectorize Ingredients\n",
    "tf_idf_vec = TfidfVectorizer()\n",
    "ingredients_vector =tf_idf_vec.fit_transform(df['processed_ingredients'])\n"
   ]
  },
  {
   "cell_type": "code",
   "execution_count": 35,
   "id": "5c63b4b8-3dcd-416d-9e17-6636807b9291",
   "metadata": {},
   "outputs": [],
   "source": [
    "#calculate similarity \n",
    "similarity_matrix = cosine_similarity(ingredients_vector)"
   ]
  },
  {
   "cell_type": "code",
   "execution_count": null,
   "id": "e0fe5639-a12c-4f6b-8993-ff7446387cc3",
   "metadata": {},
   "outputs": [],
   "source": []
  },
  {
   "cell_type": "code",
   "execution_count": 49,
   "id": "4c325072-51d4-4fa5-859c-164fed7e6832",
   "metadata": {},
   "outputs": [],
   "source": [
    "#recommending healthier options for non healthy foods\n",
    "def recommend_healthier_alternate(product_name,data,similarity_matrix,top_n=5):\n",
    "    try:\n",
    "    #index of input product \n",
    "        product_idx = data[data['product_name']==product_name.lower()].index[0]\n",
    "        #check if the product is unhealthy\n",
    "        health_label = data.iloc[product_idx]['health_label']\n",
    "        if health_label == 'healthy':\n",
    "            return f\"Product '{product_name}' is already labeled as healthy. No recommendations needed.\"\n",
    "        #get the category of product\n",
    "        category = data.iloc[product_idx]['food_groups']\n",
    "        #get the similarity for the input product \n",
    "        similarity_scores = list(enumerate(similarity_matrix[product_idx]))\n",
    "        #filter for healthier products\n",
    "        healthier_indices = data[(data['food_groups'] == category) & \n",
    "                                 (data['health_label'] == \"healthy\")].index\n",
    "        filtered_scores = [score for score in similarity_scores if score[0] in healthier_indices]\n",
    "        #sort\n",
    "        sorted_scores = sorted(filtered_scores, key=lambda x: x[1], reverse=True)\n",
    "        #recommended products\n",
    "        recommendations = [\n",
    "            (data.iloc[i]['product_name'], score) for i, score in sorted_scores[:top_n]\n",
    "        ]\n",
    "        return recommendations if recommendations else f\"No healthier alternatives found for '{product_name}'.\"\n",
    "    except IndexError:\n",
    "        return f\"Product '{product_name}' not found in the dataset.\"\n",
    "        \n",
    "        \n",
    "        "
   ]
  },
  {
   "cell_type": "code",
   "execution_count": 55,
   "id": "7e8ccf58-174d-41c6-b1eb-32745aeda24a",
   "metadata": {},
   "outputs": [
    {
     "data": {
      "text/plain": [
       "'spoon size shredded wheat & bran - canada'"
      ]
     },
     "execution_count": 55,
     "metadata": {},
     "output_type": "execute_result"
    }
   ],
   "source": [
    "\n",
    "\n",
    "\n",
    "unhealthy_product = data[data['health_label'] == 'not healthy'].iloc[5]['product_name']\n",
    "unhealthy_product\n"
   ]
  },
  {
   "cell_type": "code",
   "execution_count": 56,
   "id": "2ecf6b0a-b97c-48e7-84c9-26567060e4ea",
   "metadata": {},
   "outputs": [
    {
     "data": {
      "text/plain": [
       "[('raisin bran delicious raisins perfectly balanced with crisp',\n",
       "  np.float64(0.5258721472749123)),\n",
       " ('raisin bran delicious raisins perfectly balanced with crisp',\n",
       "  np.float64(0.5258721472749123)),\n",
       " ('raisin bran delicious raisins perfectly balanced with crisp',\n",
       "  np.float64(0.5258721472749123)),\n",
       " ('raisin bran breakfast cereal', np.float64(0.5258721472749123)),\n",
       " ('almond raisin müslix', np.float64(0.48159775728148135))]"
      ]
     },
     "execution_count": 56,
     "metadata": {},
     "output_type": "execute_result"
    }
   ],
   "source": [
    "healthier_recommendations = recommend_healthier_alternate(unhealthy_product, data, similarity_matrix)\n",
    "\n",
    "healthier_recommendations\n"
   ]
  },
  {
   "cell_type": "code",
   "execution_count": 66,
   "id": "74aa3eda-b638-4068-acbc-2f4e5b01c5e6",
   "metadata": {},
   "outputs": [
    {
     "data": {
      "text/plain": [
       "{'original thick sliced white bread': [('the original artesano bakery bread',\n",
       "   np.float64(0.729226975132324)),\n",
       "  ('sourdough round', np.float64(0.643251553316014)),\n",
       "  ('butter enriched bread, butter', np.float64(0.6371035597525322)),\n",
       "  ('butter enriched bread, butter', np.float64(0.6371035597525322)),\n",
       "  ('perfectly crafted thick sliced white', np.float64(0.6247025657651942))]}"
      ]
     },
     "execution_count": 66,
     "metadata": {},
     "output_type": "execute_result"
    }
   ],
   "source": [
    "# Filter products in the 'snacks' category and labeled as 'not healthy'\n",
    "unhealthy_snacks = data[(data['food_groups'].str.contains('bread', na=False)) & (data['health_label'] == 'not healthy')]\n",
    "\n",
    "# Get recommendations for each unhealthy snack\n",
    "snack_recommendations = {}\n",
    "for bread in unhealthy_snacks['product_name']:\n",
    "    recommendations = recommend_healthier_alternate(bread, data, similarity_matrix)\n",
    "    snack_recommendations[snack] = recommendations\n",
    "\n",
    "# Display recommendations for unhealthy snacks\n",
    "snack_recommendations\n",
    "\n"
   ]
  },
  {
   "cell_type": "code",
   "execution_count": 61,
   "id": "b165b921-9764-4c07-98c2-328a1c8aa287",
   "metadata": {},
   "outputs": [
    {
     "data": {
      "text/plain": [
       "0            vegetables\n",
       "1               cereals\n",
       "2               cereals\n",
       "3                 bread\n",
       "4                fruits\n",
       "              ...      \n",
       "25723    one-dish-meals\n",
       "25724    one-dish-meals\n",
       "25725           cereals\n",
       "25726    one-dish-meals\n",
       "25727    one-dish-meals\n",
       "Name: food_groups, Length: 25728, dtype: object"
      ]
     },
     "execution_count": 61,
     "metadata": {},
     "output_type": "execute_result"
    }
   ],
   "source": [
    "data['food_groups']"
   ]
  },
  {
   "cell_type": "code",
   "execution_count": null,
   "id": "c9f3d80d-ffde-4f79-8351-7739baf9b5d6",
   "metadata": {},
   "outputs": [],
   "source": []
  }
 ],
 "metadata": {
  "kernelspec": {
   "display_name": "Python 3 (ipykernel)",
   "language": "python",
   "name": "python3"
  },
  "language_info": {
   "codemirror_mode": {
    "name": "ipython",
    "version": 3
   },
   "file_extension": ".py",
   "mimetype": "text/x-python",
   "name": "python",
   "nbconvert_exporter": "python",
   "pygments_lexer": "ipython3",
   "version": "3.9.20"
  }
 },
 "nbformat": 4,
 "nbformat_minor": 5
}
