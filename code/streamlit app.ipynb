{
 "cells": [
  {
   "cell_type": "code",
   "execution_count": 5,
   "id": "0b4a1c0a-76bc-4a1a-87d2-b951671a5ee9",
   "metadata": {},
   "outputs": [],
   "source": [
    "import numpy as np\n",
    "import pickle\n",
    "import pandas as pd"
   ]
  },
  {
   "cell_type": "code",
   "execution_count": 12,
   "id": "48d17a60-f3c7-4f66-859e-91699f75a9f4",
   "metadata": {},
   "outputs": [],
   "source": [
    "with open('../models/foodclassifier.pkl','rb') as f:\n",
    "    model =pickle.load(f)"
   ]
  },
  {
   "cell_type": "code",
   "execution_count": 13,
   "id": "13aad2a2-cc84-4c30-bcd1-29aa0919fa6f",
   "metadata": {},
   "outputs": [
    {
     "data": {
      "text/plain": [
       "sklearn.pipeline.Pipeline"
      ]
     },
     "execution_count": 13,
     "metadata": {},
     "output_type": "execute_result"
    }
   ],
   "source": [
    "type(model)"
   ]
  },
  {
   "cell_type": "code",
   "execution_count": 14,
   "id": "3c351009-6e54-4e05-b21b-18c04f16c32c",
   "metadata": {},
   "outputs": [],
   "source": [
    "df= pd.read_csv('../data/final_data.csv')"
   ]
  },
  {
   "cell_type": "code",
   "execution_count": 15,
   "id": "3f7e472d-1bae-4c21-8261-88e6c7380e83",
   "metadata": {
    "scrolled": true
   },
   "outputs": [
    {
     "data": {
      "text/plain": [
       "Index(['brands', 'product_name', 'categories', 'countries', 'food_groups_tags',\n",
       "       'food_groups', 'ingredients_text', 'category_name', 'country',\n",
       "       'processed_ingredients', 'health_label'],\n",
       "      dtype='object')"
      ]
     },
     "execution_count": 15,
     "metadata": {},
     "output_type": "execute_result"
    }
   ],
   "source": [
    "df.columns"
   ]
  },
  {
   "cell_type": "code",
   "execution_count": 17,
   "id": "7143cd8c-6336-461b-8a4b-eff248c70206",
   "metadata": {},
   "outputs": [
    {
     "data": {
      "text/plain": [
       "array(['healthy'], dtype='<U11')"
      ]
     },
     "execution_count": 17,
     "metadata": {},
     "output_type": "execute_result"
    }
   ],
   "source": [
    "sample_input = [\"sugar, flour, chocolate\"]\n",
    "prediction = model.predict(sample_input)\n",
    "prediction"
   ]
  },
  {
   "cell_type": "code",
   "execution_count": 18,
   "id": "3b6d7949-71bf-4e64-89b5-8717cd7a0a6a",
   "metadata": {},
   "outputs": [
    {
     "data": {
      "text/plain": [
       "array(['healthy', 'healthy', 'healthy', ..., 'healthy', 'healthy',\n",
       "       'healthy'], dtype='<U11')"
      ]
     },
     "execution_count": 18,
     "metadata": {},
     "output_type": "execute_result"
    }
   ],
   "source": [
    "model.predict(df['processed_ingredients'])"
   ]
  }
 ],
 "metadata": {
  "kernelspec": {
   "display_name": "Python 3 (ipykernel)",
   "language": "python",
   "name": "python3"
  },
  "language_info": {
   "codemirror_mode": {
    "name": "ipython",
    "version": 3
   },
   "file_extension": ".py",
   "mimetype": "text/x-python",
   "name": "python",
   "nbconvert_exporter": "python",
   "pygments_lexer": "ipython3",
   "version": "3.11.9"
  }
 },
 "nbformat": 4,
 "nbformat_minor": 5
}
