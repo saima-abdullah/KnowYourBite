{
 "cells": [
  {
   "cell_type": "code",
   "execution_count": 5,
   "id": "2bf4b037-8e15-46ad-88ed-a415d11f589b",
   "metadata": {},
   "outputs": [
    {
     "name": "stdout",
     "output_type": "stream",
     "text": [
      "['CAS Reg. No.*(or other ID)', 'Substance*\\n(sorted A-Z)', 'Used for*† (Technical Effect)', '21 CFR*']\n",
      "[['4680-78-8', 'FD&C GREEN NO. 1--DELISTED', '', '81.30']]\n",
      "[['4680-78-8', 'FD&C GREEN NO. 1--DELISTED', '', '81.30'], ['5141-20-8', 'FD&C GREEN NO. 2--DELISTED', '', '81.30']]\n",
      "[['4680-78-8', 'FD&C GREEN NO. 1--DELISTED', '', '81.30'], ['5141-20-8', 'FD&C GREEN NO. 2--DELISTED', '', '81.30'], ['3564-09-8', 'FD&C RED NO. 1--DELISTED', '', '81.1081.30']]\n",
      "[['4680-78-8', 'FD&C GREEN NO. 1--DELISTED', '', '81.30'], ['5141-20-8', 'FD&C GREEN NO. 2--DELISTED', '', '81.30'], ['3564-09-8', 'FD&C RED NO. 1--DELISTED', '', '81.1081.30'], ['915-67-3', 'FD&C RED NO. 2--DELISTED', '', '81.1081.30']]\n",
      "[['4680-78-8', 'FD&C GREEN NO. 1--DELISTED', '', '81.30'], ['5141-20-8', 'FD&C GREEN NO. 2--DELISTED', '', '81.30'], ['3564-09-8', 'FD&C RED NO. 1--DELISTED', '', '81.1081.30'], ['915-67-3', 'FD&C RED NO. 2--DELISTED', '', '81.1081.30'], ['12227-78-0', 'FD&C RED NO. 3, ALUMINUM LAKE--DELISTED', '', '81.1081.30']]\n",
      "[['4680-78-8', 'FD&C GREEN NO. 1--DELISTED', '', '81.30'], ['5141-20-8', 'FD&C GREEN NO. 2--DELISTED', '', '81.30'], ['3564-09-8', 'FD&C RED NO. 1--DELISTED', '', '81.1081.30'], ['915-67-3', 'FD&C RED NO. 2--DELISTED', '', '81.1081.30'], ['12227-78-0', 'FD&C RED NO. 3, ALUMINUM LAKE--DELISTED', '', '81.1081.30'], ['977011-16-7', 'FD&C RED NO. 3, CALCIUM LAKE--DELISTED', '', '81.1081.30']]\n",
      "[['4680-78-8', 'FD&C GREEN NO. 1--DELISTED', '', '81.30'], ['5141-20-8', 'FD&C GREEN NO. 2--DELISTED', '', '81.30'], ['3564-09-8', 'FD&C RED NO. 1--DELISTED', '', '81.1081.30'], ['915-67-3', 'FD&C RED NO. 2--DELISTED', '', '81.1081.30'], ['12227-78-0', 'FD&C RED NO. 3, ALUMINUM LAKE--DELISTED', '', '81.1081.30'], ['977011-16-7', 'FD&C RED NO. 3, CALCIUM LAKE--DELISTED', '', '81.1081.30'], ['4548-53-2', 'FD&C RED NO. 4--DELISTED', '', '74.130474.230481.1081.3082.304']]\n",
      "[['4680-78-8', 'FD&C GREEN NO. 1--DELISTED', '', '81.30'], ['5141-20-8', 'FD&C GREEN NO. 2--DELISTED', '', '81.30'], ['3564-09-8', 'FD&C RED NO. 1--DELISTED', '', '81.1081.30'], ['915-67-3', 'FD&C RED NO. 2--DELISTED', '', '81.1081.30'], ['12227-78-0', 'FD&C RED NO. 3, ALUMINUM LAKE--DELISTED', '', '81.1081.30'], ['977011-16-7', 'FD&C RED NO. 3, CALCIUM LAKE--DELISTED', '', '81.1081.30'], ['4548-53-2', 'FD&C RED NO. 4--DELISTED', '', '74.130474.230481.1081.3082.304'], ['1694-09-3', 'FD&C VIOLET NO. 1--DELISTED', '', '81.1081.30']]\n"
     ]
    },
    {
     "data": {
      "text/plain": [
       "'Data scraped successfully! The table has been saved to ../data/FDA_Delisted_Additives.csv.'"
      ]
     },
     "execution_count": 5,
     "metadata": {},
     "output_type": "execute_result"
    }
   ],
   "source": [
    "# Base URL of the page\n",
    "base_url = \"https://www.hfpappexternal.fda.gov/scripts/fdcc/index.cfm?set=FoodSubstances&sort=Sortterm_ID&order=ASC&startrow=1&type=basic&search=DELISTED\"\n",
    "\n",
    "import requests\n",
    "from bs4 import BeautifulSoup\n",
    "import time\n",
    "import pandas as pd \n",
    "# Requesting the page content\n",
    "response = requests.get(base_url)\n",
    "if response.status_code == 200:\n",
    "    soup = BeautifulSoup(response.content, 'html.parser')\n",
    "    \n",
    "    # Finding the table\n",
    "    table = soup.find('table', {'id': 'summaryTable'})\n",
    "    \n",
    "    # Extracting table headers\n",
    "    headers = [header.text.strip() for header in table.find('thead').find_all('th')]\n",
    "    print(headers)\n",
    "    \n",
    "    # Extracting table rows\n",
    "    rows = []\n",
    "    for row in table.find('tbody').find_all('tr'):\n",
    "        cells = row.find_all('td')\n",
    "        row_data = [cell.text.strip() for cell in cells]\n",
    "        rows.append(row_data)\n",
    "        print(rows)\n",
    "\n",
    "   \n",
    "    \n",
    "    # Creating a DataFrame\n",
    "    df = pd.DataFrame(rows, columns=headers)\n",
    "    \n",
    "    # Saving the data to a CSV file\n",
    "    output_file = \"../data/FDA_Delisted_Additives.csv\"\n",
    "    df.to_csv(output_file, index=False)\n",
    "    \n",
    "    result_message = f\"Data scraped successfully! The table has been saved to {output_file}.\"\n",
    "else:\n",
    "    result_message = f\"Failed to fetch the page. Status code: {response.status_code}\"\n",
    "\n",
    "result_message\n",
    " "
   ]
  },
  {
   "cell_type": "code",
   "execution_count": null,
   "id": "2ca92380-55f3-4904-a00a-25d72ee83f0f",
   "metadata": {},
   "outputs": [],
   "source": []
  }
 ],
 "metadata": {
  "kernelspec": {
   "display_name": "Python 3 (ipykernel)",
   "language": "python",
   "name": "python3"
  },
  "language_info": {
   "codemirror_mode": {
    "name": "ipython",
    "version": 3
   },
   "file_extension": ".py",
   "mimetype": "text/x-python",
   "name": "python",
   "nbconvert_exporter": "python",
   "pygments_lexer": "ipython3",
   "version": "3.11.9"
  }
 },
 "nbformat": 4,
 "nbformat_minor": 5
}
