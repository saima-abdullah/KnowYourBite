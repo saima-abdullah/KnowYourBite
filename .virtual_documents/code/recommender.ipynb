import pandas as pd
from sklearn.feature_extraction.text import TfidfVectorizer
from sklearn.metrics.pairwise import cosine_similarity
import pickle


df = pd.read_csv('../data/final_data.csv')
df.head()


df.columns


data = df[['product_name','food_groups','processed_ingredients','health_label']]
data.head()



#standarized the column name 
data['product_name']= data['product_name'].str.lower().str.strip()
data['food_groups']=data['food_groups'].str.replace('en:','').str.lower().str.strip()


# Vectorize Ingredients
tf_idf_vec = TfidfVectorizer()
ingredients_vector =tf_idf_vec.fit_transform(df['processed_ingredients'])



#calculate similarity 
similarity_matrix = cosine_similarity(ingredients_vector)


#recommending healthier options for non healthy foods
def recommend_healthier_alternate(product_name,data,similarity_matrix,top_n=5):
    try:
    #index of input product 
        product_idx = data[data['product_name']==product_name.lower()].index[0]
        #check if the product is unhealthy
        health_label = data.iloc[product_idx]['health_label']
        if health_label == 'healthy':
            return f"Product '{product_name}' is already labeled as healthy. No recommendations needed."
        #get the category of product
        category = data.iloc[product_idx]['food_groups']
        #get the similarity for the input product 
        similarity_scores = list(enumerate(similarity_matrix[product_idx]))
        #filter for healthier products
        healthier_indices = data[(data['food_groups'] == category) & 
                                 (data['health_label'] == "healthy")].index
        print(healthier_indices)
        filtered_scores = [score for score in similarity_scores if score[0] in healthier_indices]
        #sort
        sorted_scores = sorted(filtered_scores, key=lambda x: x[1], reverse=True)
        #recommended products
        recommendations = [
            (data.iloc[i]['product_name'], score) for i, score in sorted_scores[:top_n]
        ]
        return recommendations if recommendations else f"No healthier alternatives found for '{product_name}'."
    except IndexError:
        return f"Product '{product_name}' not found in the dataset."
        
        
        





unhealthy_product = data[data['health_label'] == 'not healthy'].iloc[5]['product_name']
unhealthy_product



healthier_recommendations = recommend_healthier_alternate('coca cola', data, similarity_matrix)

healthier_recommendations



# Filter products in the 'snacks' category and labeled as 'not healthy'
unhealthy_snacks = data[(data['food_groups'].str.contains('bread', na=False)) & (data['health_label'] == 'not healthy')]

# Get recommendations for each unhealthy snack
snack_recommendations = {}
for bread in unhealthy_snacks['']:
    recommendations = recommend_healthier_alternate(bread, data, similarity_matrix)
    snack_recommendations[bread] = recommendations

# Display recommendations for unhealthy snacks
snack_recommendations




data['food_groups']



