import pandas as pd
import numpy as np






#Load the additives data
df_additives = pd.read_csv('../data/addtitives_processed.csv')
df_additives.head()


#Load the food products dataset
df_food = pd.read_csv('../data/food_processed.csv')
df_food.head()





# bad ingredients into a single set
bad_ingredients_set = set()
df_additives['bad_ingredients_preprocessed'].str.split(', ').apply(bad_ingredients_set.update)
bad_ingredients_set.discard('')
bad_ingredients_set


#function to assign health_label based on the presence of bad ingredients in food database ingredient_list

def health_label(ingredients_text):
    # split the preprocessed ingredient text
    product_ingredients = set(ingredients_text.split(', '))
    # discard any empty strings 
    product_ingredients.discard('')
    # check for product ingredients in the set of bad ingredients
    if product_ingredients & bad_ingredients_set:
        return 'not healthy'
    else:
        return 'healthy'




df_food['health_label'] = df_food['processed_ingredients'].apply(health_label)
df_food.head()


#check for unhealthy food labels
unhealthy_entries = df_food[df_food['health_label'] == 'not healthy']
unhealthy_entries


df_food.to_csv('../data/final_data.csv',index= False)



