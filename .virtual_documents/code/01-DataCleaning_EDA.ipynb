


import pandas as pd
import numpy as np













#Load the additives data
df_additives = pd.read_csv('../data/Ingredients_list_banned.csv')
df_additives.head()





# Rename the column names to required format
df_additives.columns=df_additives.columns.str.lower()


# Combining the 'ingredient' and 'alternate_names' to have a combine list of unhealthy ingredients
df_additives['bad_ingredients'] = df_additives['ingredient']+ ','+df_additives['alternative_names'].fillna('')
df_additives.head(40)




#Check the null values
df_additives.isna().sum()


#Check the data types
df_additives.info()


#Summary statistics of additives dataset
df_additives.describe(include='all')








#df_food = pd.read_csv('../data/ingredients v1.csv')
df_food = pd.read_csv('../data/openfoodfacts_products_world.csv')
df_food.head(20)





# Check the column names
df_food.columns


#Shape of food products data
df_food.shape


#Check for missing values 
df_food.isna().sum()



#drop data where product name is missing 
df_food.dropna(subset=['ingredients_text'],inplace=True)
df_food.shape


df_food.isna().sum()


#Food dataset columns datatype
df_food.info()


#Summary statistics of food products dataset
df_food.describe(include= 'all')











def preprocess_text(text):
    # if text is 'Nan' return empty string
    if pd.isna(text):
        return ''
    # split text by commas, strip spaces and convert to lower
    components = text.split(',')
    processed_components = [component.strip().lower() for component in components]
    # join the processed text back with commas
    return ', '.join(processed_components)

            



df_additives['bad_ingredients_preprocessed'] = df_additives['bad_ingredients'].apply(preprocess_text)
df_additives


# apply text preprocessing to food products dataset
df_food['processed_ingredients'] = df_food['ingredients_text'].apply(preprocess_text)
df_food.head()


#save the text processed data set 

df_additives.to_csv('../data/addtitives_processed.csv',index=False)
df_food.to_csv('../data/food_processed.csv',index = False)



