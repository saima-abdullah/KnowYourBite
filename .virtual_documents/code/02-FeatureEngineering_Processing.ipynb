import pandas as pd
import numpy as np
import matplotlib.pyplot as plt
from collections import Counter





#Load the additives data
df_additives = pd.read_csv('../data/addtitives_processed.csv')
df_additives.head()


#Load the food products dataset
df_food = pd.read_csv('../data/food_processed.csv')
df_food.head()





# bad ingredients into a single set
bad_ingredients_set = set()
df_additives['bad_ingredients_preprocessed'].str.split(', ').apply(bad_ingredients_set.update)
bad_ingredients_set.discard('')
bad_ingredients_set


#function to assign health_label based on the presence of bad ingredients in food database ingredient_list

def health_label(ingredients_text):
    # split the preprocessed ingredient text
    product_ingredients = set(ingredients_text.split(', '))
    # discard any empty strings 
    product_ingredients.discard('')
    # check for product ingredients in the set of bad ingredients
    if product_ingredients & bad_ingredients_set:
        return 'not healthy'
    else:
        return 'healthy'




df_food['health_label'] = df_food['processed_ingredients'].apply(health_label)
df_food.head()


#check for unhealthy food labels
unhealthy_entries = df_food[df_food['health_label'] == 'not healthy']
unhealthy_entries














df_food.shape





df_food.info()








df_food.isna().sum()


#drop data where product name is null
df_food.dropna(subset=['product_name'],inplace=True)
df_food.shape



#drop duplicates for product_name
df_cleaned_food = df_food.drop_duplicates(subset=['product_name'])
df_cleaned_food.shape





df_food['health_label'].value_counts()



df_food['health_label'].value_counts().plot(kind='bar')
plt.title('Distribution of Health Label', fontsize=14)
plt.xlabel('Health Label', fontsize=12)
plt.ylabel('Count', fontsize=12)
plt.xticks(rotation=0);
plt.savefig('../img/Distribution_of_Health_Labels.png')












#https://www.datacamp.com/tutorial/pandas-explode
# split processed_ingredients into individual ingredients
healthy_ingredients = df_food[df_food['health_label'] == 'healthy']['processed_ingredients'].str.split(',').explode()
not_healthy_ingredients = df_food[df_food['health_label'] == 'not healthy']['processed_ingredients'].str.split(',').explode()

# count the frequency of each ingredient
healthy_counts = Counter(healthy_ingredients)
not_healthy_counts = Counter(not_healthy_ingredients)

# 10 most frequent ingredients
top_healthy_ingredients = healthy_counts.most_common(10)
top_not_healthy_ingredients = not_healthy_counts.most_common(10)

# convert to dataFrame for visualization
healthy_df = pd.DataFrame(top_healthy_ingredients, columns=['Ingredient', 'Count'])
not_healthy_df = pd.DataFrame(top_not_healthy_ingredients, columns=['Ingredient', 'Count'])



fig, axes = plt.subplots(1, 2, figsize=(14, 6))  # 1 row, 2 columns

# Healthy Ingredients
axes[0].barh(healthy_df['Ingredient'], healthy_df['Count'], color='skyblue')
axes[0].set_title('Healthy', fontsize=14)
axes[0].set_xlabel('Count', fontsize=12)
axes[0].invert_yaxis()

# Not Healthy Ingredients
axes[1].barh(not_healthy_df['Ingredient'], not_healthy_df['Count'], color='salmon')
axes[1].set_title('Not Healthy', fontsize=14)
axes[1].set_xlabel('Count', fontsize=12)
axes[1].invert_yaxis()

plt.tight_layout()
plt.savefig('../img/Top_ten_ingredients.png')





#  rare ingredients that occur only once in healthy foods
rare_ingredients_healthy = [ingredient for ingredient, count in healthy_counts.items() if count == 1]

#  rare ingredients that occur only once in not healthy foods
rare_ingredients_not_healthy = [ingredient for ingredient, count in not_healthy_counts.items() if count == 1]

# counts of rare ingredients for each label
num_rare_healthy = len(rare_ingredients_healthy)
num_rare_not_healthy = len(rare_ingredients_not_healthy)


labels = ['Healthy', 'Not Healthy']
counts = [num_rare_healthy, num_rare_not_healthy]

#  plot
plt.figure(figsize=(8, 6))
plt.bar(labels, counts, color=['skyblue', 'salmon'])
plt.title('Count of Rare Ingredients by Label', fontsize=16)
plt.xlabel('Label', fontsize=12)
plt.ylabel('Number of Rare Ingredients', fontsize=12)
plt.show()







#number of ingredients per product
ingredient_lengths = df_food['processed_ingredients'].str.split(',').apply(len)


plt.figure(figsize=(8, 6))
plt.hist(ingredient_lengths, bins=20, color='skyblue', edgecolor='black')
plt.title('Distribution of Number of Ingredients per Product', fontsize=16)
plt.xlabel('Number of Ingredients', fontsize=12)
plt.ylabel('Number of Products', fontsize=12);













#remove the 'en:' from the food_category
df_food['filtered_food_groups'] =  df_food['food_groups'].str.replace('en:','')
# now group data for helath label with food_groups
category_health_counts = df_food.groupby(['filtered_food_groups', 'health_label']).size().unstack(fill_value=0)


# category-wise relationship to health label
category_health_counts.head(10).plot(kind='bar', stacked=True, figsize=(14, 8), color=['salmon', 'skyblue'], edgecolor='black')
plt.title('Category-Wise Relationship to Health Label', fontsize=16)
plt.xlabel('Product Categories', fontsize=12)
plt.ylabel('Count', fontsize=12)
plt.xticks(rotation=45, ha='right', fontsize=10)
plt.legend(title='Health Label', labels=['Not Healthy (0)', 'Healthy (1)'])
plt.tight_layout()
plt.show()








df_food.to_csv('../data/final_data.csv',index= False)



