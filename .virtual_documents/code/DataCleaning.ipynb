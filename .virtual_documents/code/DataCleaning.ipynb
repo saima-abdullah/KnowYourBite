import pandas as pd
import numpy as np
import pandas as pd
import spacy
from spacy.lang.en.stop_words import STOP_WORDS
import re





df_food = pd.read_csv('../data/ingredients v1.csv')
df_food.head()


#
df_food.columns


#delete the colummns which are not required
df_food.drop(columns =['id','asins', 'dateAdded', 'dateUpdated', 'ean','features.key','manufacturer', 'manufacturerNumber', 'sizes', 'upc', 'weight', 'Unnamed: 15' ],inplace=True)


df_food.head()


df_food.to_csv('../data/final_food_list.csv')


#rename column features.values to ingredients list and name to food_product_name
df_food.rename(columns = {
    'features.value':"ingredients",
    'name':'food_product',
    'categories':'food_category'
                        
               },inplace=True)



df_food = df_food[['brand','food_product','ingredients','food_category']]


df_food.head(20)


df_food.isna().sum()
df_food.shape


df_food.dropna(inplace=True)


df_food.shape





#load the additives data
df_additives = pd.read_csv('../data/additives_with_more_alternate_names.csv')
df_additives.head()





# Combine the 'ingredient' and 'alternative_names' columns into one,
# only adding 'alternative_names' if it is not null
df_additives['all_names'] = df_additives.apply(
    lambda row: [row['ingredient']] + row['alternative_names'].split(', ') 
    if pd.notnull(row['alternative_names']) else [row['ingredient']], axis=1
)

# Check for any null values in the new 'all_names' column
null_values = df_additives['all_names'].isnull().sum()

print(f"Number of null values in 'all_names': {null_values}")





df_additives.head(1)


df_additives.isna().sum()



df_additives.shape


df_additives.to_csv('../data/additive.csv')





#load medium pipeline
nlp = spacy.load('en_core_web_md')


# preprocess text data: lowercase, remove punctuation, tokenize


def preprocess_ingredients(text):
    try:
        if not isinstance(text, str):
            return []  # Return empty if not a string
        #  lowercase
        text = text.lower()
        # replace parentheses with commas
        text = text.replace('(', ',').replace(')', ',')
        # split by commas and strip whitespace
        tokens = [token.strip() for token in text.split(',') if token.strip()]
        return tokens
    except Exception as e:
        return []  





df_food['processed_ingredients'] = df_food['ingredients'].apply(preprocess_ingredients)



df_food.head()


UNWANTED_TOKENS = {'coloring', 'leaf', 'extract', 'flavor', 'artificial', 'natural', 'spices', 'including','iv'}

def preprocess_additives(text):
    try:
        # Convert the string representation of a list into an actual list
        token_list = eval(text) if isinstance(text, str) else text
        if not isinstance(token_list, list):
            return []  # Return empty if not a list
        # Process each token: lowercase and strip unwanted characters
        processed_tokens = []
        for token in token_list:
            # Convert to lowercase and split by parentheses and commas
            token = token.lower()
            token = token.replace('(', ',').replace(')', ',')
            split_tokens = [t.strip() for t in token.split(',') if t.strip() and t.strip() not in UNWANTED_TOKENS]
            processed_tokens.extend(split_tokens)
        return processed_tokens
    except Exception as e:
        return []  # Return empty list if processing fails

# Apply the revised preprocessing function
df_additives['preprocessed_all_names'] = df_additives['all_names'].apply(preprocess_additives)




df_additives.head()


additives = df_additives['preprocessed_all_names']
additives


df_food.head()


# set of processed additive tokens for labeling
unhealthy_additives = set(
    token
    for tokens in df_additives['preprocessed_all_names']
    for token in tokens
)
print(unhealthy_additives)
# labeling function 
def label_food(ingredients):
    if not isinstance(ingredients, list):
        return "Healthy"  # Default to Healthy if no valid ingredients
    # Check if any ingredient matches the set of unhealthy additives
    for ingredient in ingredients:
        if ingredient in unhealthy_additives:
            return "Not Healthy"
    return "Healthy"

# label the data 
df_food['health_label'] = df_food['processed_ingredients'].apply(label_food)





df_food_unhealthy = df_food[df_food['health_label'] == 'Not Healthy']
df_food_unhealthy


#verify unhealthy labels 


# verify if the label is correct
df_food['is_correct'] = df_food.apply(
    lambda row: (
        'Correct' if (
            (any(ingredient in unhealthy_additives for ingredient in row['processed_ingredients'])
             and row['health_label'] == 'Not Healthy') or
            (not any(ingredient in unhealthy_additives for ingredient in row['processed_ingredients'])
             and row['health_label'] == 'Healthy')
        ) else 'Incorrect'
    ),
    axis=1
)


incorrect_labels = df_food[df_food['is_correct'] == 'Incorrect']
incorrect_labels



w = df_food[df_food['food_product'] == 'Jolly Time Butter']
w



