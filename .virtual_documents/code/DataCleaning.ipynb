import pandas as pd
import numpy as np
import pandas as pd
import spacy
from spacy.lang.en.stop_words import STOP_WORDS
import re





#load the additives data
df_additives = pd.read_csv('../data/Ingredients_list_banned.csv')
df_additives.head()


# rename the column names to required format
df_additives.columns=df_additives.columns.str.lower()


# combining the 'ingredient' and 'alternate_names' to have a combine list of unhealthy ingredients
df_additives['bad_ingredients'] = df_additives['ingredient']+ ','+df_additives['alternative_names']
df_additives.head()




df_additives.isna().sum()


df_additives.info()





#df_food = pd.read_csv('../data/ingredients v1.csv')
df_food = pd.read_csv('../data/openfoodfacts_products_world.csv')
df_food.head(20)


#
df_food.columns


# filter for products from the United States and Canada
def filter_countries(countries_text):
   
    countries = countries_text.lower()
    # Split into list and check each country
    return any(country.strip() in ['united states', 'canada'] for country in countries.split(','))


df_food = df_food[df_food['countries'].apply(filter_countries)]
df_food.head()


#shape of food products data
df_food.shape


df_food.isna().sum()



df_food.dropna(subset=['product_name'],inplace=True)


df_food.shape


df_food.info()





#load medium pipeline
nlp = spacy.load('en_core_web_md')


# preprocess text data: 
def preprocess_and_split_ingredients(text):
    try:
        if not isinstance(text,str):
            return []  #return empty if not a string
        #convert to lowercase
        text = text.strip().lower()
        tokens = [token.strip() for token in text.split(',') if token.strip()]
        return tokens
    except Exception as e:
        return []  
        
            


df_food['processed_ingredients'] = df_food['ingredients_text'].apply(preprocess_ingredients_text)
df_food.head(20)


df_additives['processed_bad_ingredients'] = df_additives['bad_ingredients'].apply(preprocess_ingredients_text)
df_additives.head(30)


#convert the bad_ingredient to set of unique values 
unhealthy_ingredients = set(
    ingredient.strip().lower()  # Clean and standardize
    for items in df_additives['bad_ingredients'].dropna()  # Drop NaN values
    for ingredient in items.split(',')  # Split by commas
    if ingredient.strip()
)
unhealthy_ingredients


def health_label(ingredients):
    """
    Label a product as 'healthy' or 'unhealthy' based on its ingredients.

    Parameters:
    - ingredients (list): List of ingredients for a product.

    Returns:
    - str: 'unhealthy' if any ingredient is in the unhealthy_ingredients set, otherwise 'healthy'.
    """
    try:
        # Check each ingredient
        for ingredient in ingredients:
            
            if ingredient in unhealthy_ingredients:
                return 'unhealthy'
        return 'healthy'
    except Exception as e:
        print(f"Error processing ingredients: {ingredients} - {e}")
        return 'unknown'

        




df_food['health_label'] = df_food['processed_ingredients'].apply(health_label)


df_food



df_food_unhealthy = df_food[df_food['health_label'] == 'unhealthy']
df_food_unhealthy


#verify unhealthy labels 


def find_unhealthy_ingredients(ingredients_text, banned_set):
    # Preprocess and split the ingredients text into a list if it's a string
    if isinstance(ingredients_text, str):
        ingredients_list = preprocess_and_split_ingredients(ingredients_text)
    else:
        # If ingredients_text is not a string (e.g., NaN), return an empty list
        return []

    # Check each ingredient against the banned ingredients set
    return [ingredient for ingredient in ingredients_list if ingredient in banned_set]

# Apply the function to each product
df_food['Unhealthy_Ingredients'] = df_food['ingredients_text'].apply(
    lambda x: find_unhealthy_ingredients(x, unhealthy_ingredients)
)

# Display products with their specific unhealthy ingredients
df_food[['brands', 'product_name', 'ingredients_text', 'Unhealthy_Ingredients']]




