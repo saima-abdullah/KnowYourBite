import numpy as np
import pickle
import pandas as pd


with open('../models/foodclassifier.pkl','rb') as f:
    model =pickle.load(f)


type(model)


df= pd.read_csv('../data/final_data.csv')


df.columns


sample_input = ["sugar, flour, chocolate"]
prediction = model.predict(sample_input)
prediction


model.predict(df['processed_ingredients'])
