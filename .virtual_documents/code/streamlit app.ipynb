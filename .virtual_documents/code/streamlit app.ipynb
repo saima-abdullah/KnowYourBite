# recommender.py

import pandas as pd
from sklearn.feature_extraction.text import TfidfVectorizer
from sklearn.metrics.pairwise import cosine_similarity

# Preprocess data
def preprocess_data(data):
    data['product_name'] = data['product_name'].str.lower().str.strip()
    data['food_groups'] = data['food_groups'].str.replace('en:', '').str.lower().str.strip()
    return data

# Cache ingredient vectors
def get_ingredient_vectors(data):
    tf_idf_vec = TfidfVectorizer()
    return tf_idf_vec.fit_transform(data['processed_ingredients']), tf_idf_vec

# Recommendation logic
def recommend_healthier_alternate(product_name, data, ingredient_vectors, top_n=5):
    try:
        # Index of the input product
        product_idx = data[data['product_name'] == product_name.lower()].index[0]
        
        # Check if the product is unhealthy
        health_label = data.iloc[product_idx]['health_label']
        if health_label == 'healthy':
            return f"Product '{product_name}' is already labeled as healthy. No recommendations needed."
        
        # Get the category of the product
        category = data.iloc[product_idx]['food_groups']
        
        # Vector of the input product
        product_vector = ingredient_vectors[product_idx]
        
        # Filter for healthier products in the same category
        healthier_products = data[(data['food_groups'] == category) & 
                                  (data['health_label'] == "healthy")]
        
        if healthier_products.empty:
            return f"No healthier alternatives found for '{product_name}'."
        
        # Compute cosine similarity only for healthier products
        healthier_indices = healthier_products.index
        healthier_vectors = ingredient_vectors[healthier_indices]
        similarity_scores = cosine_similarity(product_vector, healthier_vectors).flatten()
        
        # Sort by similarity score
        sorted_indices = similarity_scores.argsort()[::-1][:top_n]
        
        # Generate recommendations
        recommendations = [
            (healthier_products.iloc[i]['product_name'], similarity_scores[i]) 
            for i in sorted_indices
        ]
        return recommendations
    except IndexError:
        return f"Product '{product_name}' not found in the dataset."



with open('../models/foodclassifier.pkl','rb') as f:
    model =pickle.load(f)


type(model)


df= pd.read_csv('../data/final_data.csv')


df.columns


sample_input = ["sugar, flour, chocolate"]
prediction = model.predict(sample_input)
prediction


model.predict(df['processed_ingredients'])
